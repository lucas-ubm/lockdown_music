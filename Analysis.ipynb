{
 "cells": [
  {
   "cell_type": "code",
   "execution_count": 3,
   "metadata": {},
   "outputs": [],
   "source": [
    "import pandas as pd\n",
    "import seaborn as sns\n",
    "import matplotlib.pyplot as plt"
   ]
  },
  {
   "cell_type": "code",
   "execution_count": 4,
   "metadata": {},
   "outputs": [],
   "source": [
    "data1 = pd.read_json('data/StreamingHistory1.json')\n",
    "data0 = pd.read_json('data/StreamingHistory0.json')"
   ]
  },
  {
   "cell_type": "code",
   "execution_count": 5,
   "metadata": {},
   "outputs": [],
   "source": [
    "data = pd.concat([data0,data1])"
   ]
  },
  {
   "cell_type": "code",
   "execution_count": 6,
   "metadata": {},
   "outputs": [],
   "source": [
    "data['endTime'] = pd.to_datetime(data['endTime'])\n",
    "data['msPlayed'] = pd.to_timedelta(data['msPlayed'], unit='ms')"
   ]
  },
  {
   "cell_type": "code",
   "execution_count": 7,
   "metadata": {},
   "outputs": [
    {
     "data": {
      "text/html": [
       "<div>\n",
       "<style scoped>\n",
       "    .dataframe tbody tr th:only-of-type {\n",
       "        vertical-align: middle;\n",
       "    }\n",
       "\n",
       "    .dataframe tbody tr th {\n",
       "        vertical-align: top;\n",
       "    }\n",
       "\n",
       "    .dataframe thead th {\n",
       "        text-align: right;\n",
       "    }\n",
       "</style>\n",
       "<table border=\"1\" class=\"dataframe\">\n",
       "  <thead>\n",
       "    <tr style=\"text-align: right;\">\n",
       "      <th></th>\n",
       "      <th>endTime</th>\n",
       "      <th>artistName</th>\n",
       "      <th>trackName</th>\n",
       "      <th>msPlayed</th>\n",
       "    </tr>\n",
       "  </thead>\n",
       "  <tbody>\n",
       "    <tr>\n",
       "      <th>0</th>\n",
       "      <td>2019-05-16 02:16:00</td>\n",
       "      <td>The Beatles</td>\n",
       "      <td>Come Together - Remastered 2009</td>\n",
       "      <td>00:03:30.001000</td>\n",
       "    </tr>\n",
       "    <tr>\n",
       "      <th>1</th>\n",
       "      <td>2019-05-18 16:09:00</td>\n",
       "      <td>Hard GZ</td>\n",
       "      <td>Hereditario</td>\n",
       "      <td>00:03:28.050000</td>\n",
       "    </tr>\n",
       "    <tr>\n",
       "      <th>2</th>\n",
       "      <td>2019-05-18 16:12:00</td>\n",
       "      <td>C. Tangana</td>\n",
       "      <td>Pa' Llamar Tu Atención (feat. MC Bin Laden)</td>\n",
       "      <td>00:02:57.613000</td>\n",
       "    </tr>\n",
       "    <tr>\n",
       "      <th>3</th>\n",
       "      <td>2019-05-18 16:16:00</td>\n",
       "      <td>Sharif</td>\n",
       "      <td>R.o.n.r.o.n.e.a</td>\n",
       "      <td>00:03:40.440000</td>\n",
       "    </tr>\n",
       "    <tr>\n",
       "      <th>4</th>\n",
       "      <td>2019-05-18 16:19:00</td>\n",
       "      <td>Kaydy Cain</td>\n",
       "      <td>HDP</td>\n",
       "      <td>00:03:33.666000</td>\n",
       "    </tr>\n",
       "    <tr>\n",
       "      <th>...</th>\n",
       "      <td>...</td>\n",
       "      <td>...</td>\n",
       "      <td>...</td>\n",
       "      <td>...</td>\n",
       "    </tr>\n",
       "    <tr>\n",
       "      <th>1398</th>\n",
       "      <td>2020-05-17 17:38:00</td>\n",
       "      <td>Freddie Gibbs</td>\n",
       "      <td>Fake Names</td>\n",
       "      <td>00:03:44.200000</td>\n",
       "    </tr>\n",
       "    <tr>\n",
       "      <th>1399</th>\n",
       "      <td>2020-05-17 17:40:00</td>\n",
       "      <td>Jay Electronica</td>\n",
       "      <td>Fruits Of The Spirit</td>\n",
       "      <td>00:01:34.507000</td>\n",
       "    </tr>\n",
       "    <tr>\n",
       "      <th>1400</th>\n",
       "      <td>2020-05-17 17:45:00</td>\n",
       "      <td>Nas</td>\n",
       "      <td>The World Is Yours</td>\n",
       "      <td>00:04:50.573000</td>\n",
       "    </tr>\n",
       "    <tr>\n",
       "      <th>1401</th>\n",
       "      <td>2020-05-17 17:47:00</td>\n",
       "      <td>The Alchemist</td>\n",
       "      <td>E. Coli (feat. Earl Sweatshirt)</td>\n",
       "      <td>00:02:12.147000</td>\n",
       "    </tr>\n",
       "    <tr>\n",
       "      <th>1402</th>\n",
       "      <td>2020-05-17 17:52:00</td>\n",
       "      <td>Talib Kweli</td>\n",
       "      <td>2000 Seasons</td>\n",
       "      <td>00:04:13.068000</td>\n",
       "    </tr>\n",
       "  </tbody>\n",
       "</table>\n",
       "<p>11403 rows × 4 columns</p>\n",
       "</div>"
      ],
      "text/plain": [
       "                 endTime       artistName  \\\n",
       "0    2019-05-16 02:16:00      The Beatles   \n",
       "1    2019-05-18 16:09:00          Hard GZ   \n",
       "2    2019-05-18 16:12:00       C. Tangana   \n",
       "3    2019-05-18 16:16:00           Sharif   \n",
       "4    2019-05-18 16:19:00       Kaydy Cain   \n",
       "...                  ...              ...   \n",
       "1398 2020-05-17 17:38:00    Freddie Gibbs   \n",
       "1399 2020-05-17 17:40:00  Jay Electronica   \n",
       "1400 2020-05-17 17:45:00              Nas   \n",
       "1401 2020-05-17 17:47:00    The Alchemist   \n",
       "1402 2020-05-17 17:52:00      Talib Kweli   \n",
       "\n",
       "                                        trackName        msPlayed  \n",
       "0                 Come Together - Remastered 2009 00:03:30.001000  \n",
       "1                                     Hereditario 00:03:28.050000  \n",
       "2     Pa' Llamar Tu Atención (feat. MC Bin Laden) 00:02:57.613000  \n",
       "3                                 R.o.n.r.o.n.e.a 00:03:40.440000  \n",
       "4                                             HDP 00:03:33.666000  \n",
       "...                                           ...             ...  \n",
       "1398                                   Fake Names 00:03:44.200000  \n",
       "1399                         Fruits Of The Spirit 00:01:34.507000  \n",
       "1400                           The World Is Yours 00:04:50.573000  \n",
       "1401              E. Coli (feat. Earl Sweatshirt) 00:02:12.147000  \n",
       "1402                                 2000 Seasons 00:04:13.068000  \n",
       "\n",
       "[11403 rows x 4 columns]"
      ]
     },
     "execution_count": 7,
     "metadata": {},
     "output_type": "execute_result"
    }
   ],
   "source": [
    "data"
   ]
  },
  {
   "cell_type": "code",
   "execution_count": 8,
   "metadata": {},
   "outputs": [],
   "source": [
    "lockdown = data[(data['endTime']>pd.to_datetime('2020-03-12'))&(data['artistName']!='Nas')]"
   ]
  },
  {
   "cell_type": "code",
   "execution_count": 9,
   "metadata": {},
   "outputs": [],
   "source": [
    "top = lockdown.groupby('trackName').sum().sort_values('msPlayed', ascending=False).head(6)"
   ]
  },
  {
   "cell_type": "code",
   "execution_count": 10,
   "metadata": {},
   "outputs": [],
   "source": [
    "df = lockdown[(lockdown['trackName'].isin(top.index))]"
   ]
  },
  {
   "cell_type": "code",
   "execution_count": 11,
   "metadata": {},
   "outputs": [],
   "source": [
    "#df['minPlayed'] = df['msPlayed'].apply(lambda x:x.total_seconds()//60)"
   ]
  },
  {
   "cell_type": "code",
   "execution_count": 12,
   "metadata": {},
   "outputs": [
    {
     "name": "stderr",
     "output_type": "stream",
     "text": [
      "/Users/admin/Documents/Fun/Projects/venv/lib/python3.7/site-packages/ipykernel_launcher.py:1: SettingWithCopyWarning: \n",
      "A value is trying to be set on a copy of a slice from a DataFrame.\n",
      "Try using .loc[row_indexer,col_indexer] = value instead\n",
      "\n",
      "See the caveats in the documentation: https://pandas.pydata.org/pandas-docs/stable/user_guide/indexing.html#returning-a-view-versus-a-copy\n"
     ]
    }
   ],
   "source": [
    "df['sPlayed'] = df['msPlayed'].apply(lambda x:x.total_seconds())"
   ]
  },
  {
   "cell_type": "code",
   "execution_count": 13,
   "metadata": {},
   "outputs": [
    {
     "name": "stderr",
     "output_type": "stream",
     "text": [
      "/Users/admin/Documents/Fun/Projects/venv/lib/python3.7/site-packages/ipykernel_launcher.py:1: SettingWithCopyWarning: \n",
      "A value is trying to be set on a copy of a slice from a DataFrame.\n",
      "Try using .loc[row_indexer,col_indexer] = value instead\n",
      "\n",
      "See the caveats in the documentation: https://pandas.pydata.org/pandas-docs/stable/user_guide/indexing.html#returning-a-view-versus-a-copy\n",
      "  \"\"\"Entry point for launching an IPython kernel.\n"
     ]
    }
   ],
   "source": [
    "df['day'] = df['endTime'].apply(lambda x:x.date())"
   ]
  },
  {
   "cell_type": "code",
   "execution_count": 14,
   "metadata": {},
   "outputs": [
    {
     "name": "stderr",
     "output_type": "stream",
     "text": [
      "/Users/admin/Documents/Fun/Projects/venv/lib/python3.7/site-packages/ipykernel_launcher.py:1: SettingWithCopyWarning: \n",
      "A value is trying to be set on a copy of a slice from a DataFrame.\n",
      "Try using .loc[row_indexer,col_indexer] = value instead\n",
      "\n",
      "See the caveats in the documentation: https://pandas.pydata.org/pandas-docs/stable/user_guide/indexing.html#returning-a-view-versus-a-copy\n",
      "  \"\"\"Entry point for launching an IPython kernel.\n"
     ]
    }
   ],
   "source": [
    "df['week'] = df['endTime'].apply(lambda x:x.week)"
   ]
  },
  {
   "cell_type": "code",
   "execution_count": 15,
   "metadata": {},
   "outputs": [],
   "source": [
    "count = df.groupby(['trackName', 'artistName']).sum().sort_values('sPlayed').reset_index()"
   ]
  },
  {
   "cell_type": "code",
   "execution_count": 16,
   "metadata": {},
   "outputs": [
    {
     "data": {
      "text/html": [
       "<div>\n",
       "<style scoped>\n",
       "    .dataframe tbody tr th:only-of-type {\n",
       "        vertical-align: middle;\n",
       "    }\n",
       "\n",
       "    .dataframe tbody tr th {\n",
       "        vertical-align: top;\n",
       "    }\n",
       "\n",
       "    .dataframe thead th {\n",
       "        text-align: right;\n",
       "    }\n",
       "</style>\n",
       "<table border=\"1\" class=\"dataframe\">\n",
       "  <thead>\n",
       "    <tr style=\"text-align: right;\">\n",
       "      <th></th>\n",
       "      <th>trackName</th>\n",
       "      <th>artistName</th>\n",
       "      <th>sPlayed</th>\n",
       "      <th>week</th>\n",
       "    </tr>\n",
       "  </thead>\n",
       "  <tbody>\n",
       "    <tr>\n",
       "      <th>0</th>\n",
       "      <td>Ora</td>\n",
       "      <td>Ludovico Einaudi</td>\n",
       "      <td>2840.958</td>\n",
       "      <td>86</td>\n",
       "    </tr>\n",
       "    <tr>\n",
       "      <th>1</th>\n",
       "      <td>Institutionalized</td>\n",
       "      <td>Kendrick Lamar</td>\n",
       "      <td>3059.494</td>\n",
       "      <td>221</td>\n",
       "    </tr>\n",
       "    <tr>\n",
       "      <th>2</th>\n",
       "      <td>King Kunta</td>\n",
       "      <td>Kendrick Lamar</td>\n",
       "      <td>3092.594</td>\n",
       "      <td>308</td>\n",
       "    </tr>\n",
       "    <tr>\n",
       "      <th>3</th>\n",
       "      <td>Wesley's Theory</td>\n",
       "      <td>Kendrick Lamar</td>\n",
       "      <td>3150.550</td>\n",
       "      <td>219</td>\n",
       "    </tr>\n",
       "    <tr>\n",
       "      <th>4</th>\n",
       "      <td>Nunca Estoy</td>\n",
       "      <td>C. Tangana</td>\n",
       "      <td>3447.163</td>\n",
       "      <td>501</td>\n",
       "    </tr>\n",
       "    <tr>\n",
       "      <th>5</th>\n",
       "      <td>Good News</td>\n",
       "      <td>Mac Miller</td>\n",
       "      <td>4091.095</td>\n",
       "      <td>200</td>\n",
       "    </tr>\n",
       "  </tbody>\n",
       "</table>\n",
       "</div>"
      ],
      "text/plain": [
       "           trackName        artistName   sPlayed  week\n",
       "0                Ora  Ludovico Einaudi  2840.958    86\n",
       "1  Institutionalized    Kendrick Lamar  3059.494   221\n",
       "2         King Kunta    Kendrick Lamar  3092.594   308\n",
       "3    Wesley's Theory    Kendrick Lamar  3150.550   219\n",
       "4        Nunca Estoy        C. Tangana  3447.163   501\n",
       "5          Good News        Mac Miller  4091.095   200"
      ]
     },
     "execution_count": 16,
     "metadata": {},
     "output_type": "execute_result"
    }
   ],
   "source": [
    "count"
   ]
  },
  {
   "cell_type": "code",
   "execution_count": 19,
   "metadata": {},
   "outputs": [
    {
     "data": {
      "image/png": "[encoded data removed]",
      "text/plain": [
       "<Figure size 864x864 with 2 Axes>"
      ]
     },
     "metadata": {},
     "output_type": "display_data"
    }
   ],
   "source": [
    "import matplotlib.patches as mpatches\n",
    "fig, ax = plt.subplots(2,1, figsize=(12,12))\n",
    "colors = {'Ora': \"tab:blue\", 'Wesley\\'s Theory':\"tab:red\", 'King Kunta':'tab:red', 'Institutionalized':'tab:red', 'Good News':\"tab:green\", 'Nunca Estoy': \"gray\"}\n",
    "sns.barplot(x=\"trackName\", y=\"sPlayed\", data=count, palette=colors, ci=None, orient='v', ax=ax[0])\n",
    "patches = [mpatches.Patch(color='tab:blue', label='Ludovico Einaudi'), mpatches.Patch(color='tab:red', label='Kendrick Lamar'), \n",
    "           mpatches.Patch(color='tab:green', label='Mac Miller'), mpatches.Patch(color='gray', label='C Tangana')]\n",
    "ax[0].set_xlabel('')\n",
    "ax[0].set_ylabel('Seconds played during lockdown')\n",
    "ax[0].set_title('Most listened to songs during lockdown')\n",
    "ax[0].legend(handles=patches, loc='upper left')\n",
    "\n",
    "sns.countplot(x=\"trackName\", data=df, palette=colors, orient='v', ax=ax[1])\n",
    "ax[1].set_xlabel('Song')\n",
    "ax[1].set_ylabel('Times played during lockdown')\n",
    "\n",
    "plt.tight_layout()"
   ]
  },
  {
   "cell_type": "code",
   "execution_count": null,
   "metadata": {},
   "outputs": [],
   "source": []
  }
 ],
 "metadata": {
  "kernelspec": {
   "display_name": "Python 3",
   "language": "python",
   "name": "python3"
  },
  "language_info": {
   "codemirror_mode": {
    "name": "ipython",
    "version": 3
   },
   "file_extension": ".py",
   "mimetype": "text/x-python",
   "name": "python",
   "nbconvert_exporter": "python",
   "pygments_lexer": "ipython3",
   "version": "3.7.3"
  }
 },
 "nbformat": 4,
 "nbformat_minor": 4
}
